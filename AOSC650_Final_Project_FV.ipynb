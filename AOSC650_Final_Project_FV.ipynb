{
  "nbformat": 4,
  "nbformat_minor": 0,
  "metadata": {
    "colab": {
      "provenance": [],
      "authorship_tag": "ABX9TyNk2H0BLpMgivOQ2SXIA/mI",
      "include_colab_link": true
    },
    "kernelspec": {
      "name": "python3",
      "display_name": "Python 3"
    },
    "language_info": {
      "name": "python"
    }
  },
  "cells": [
    {
      "cell_type": "markdown",
      "metadata": {
        "id": "view-in-github",
        "colab_type": "text"
      },
      "source": [
        "<a href=\"https://colab.research.google.com/github/mraith11/UMDAOSC650/blob/main/AOSC650_Final_Project_FV.ipynb\" target=\"_parent\"><img src=\"https://colab.research.google.com/assets/colab-badge.svg\" alt=\"Open In Colab\"/></a>"
      ]
    },
    {
      "cell_type": "markdown",
      "source": [
        "# **Final Project for AOSC650**\n",
        "Using an artificial neural network to identfy mineralogy from mass spectra\n",
        "\n",
        "\n",
        "\n",
        "\n",
        "\n",
        "\n"
      ],
      "metadata": {
        "id": "zCkSmuh3-FX0"
      }
    },
    {
      "cell_type": "markdown",
      "source": [
        "Start by importing key libraries (numpy, pandas, keras, etc.)"
      ],
      "metadata": {
        "id": "dqj5poeY5lht"
      }
    },
    {
      "cell_type": "code",
      "source": [
        "## Import essential libraries\n",
        "import numpy as np\n",
        "import matplotlib.pyplot as plt\n",
        "import pandas as pd\n",
        "import keras\n",
        "import sklearn\n",
        "from keras.models import Sequential\n",
        "from keras.layers import Dense, Dropout\n",
        "from sklearn.model_selection import train_test_split"
      ],
      "metadata": {
        "id": "3_6wiDeGZfhP"
      },
      "execution_count": null,
      "outputs": []
    },
    {
      "cell_type": "markdown",
      "source": [
        "Mount to google drive and read in the files. Each file has ~40,000 mass spectra from single scans (samples) with ~200 intensities corresponding to the ~200 masses listed in the mass list (features)"
      ],
      "metadata": {
        "id": "0mTd1w155rls"
      }
    },
    {
      "cell_type": "code",
      "execution_count": null,
      "metadata": {
        "id": "fPwsAeo18cCy",
        "colab": {
          "base_uri": "https://localhost:8080/"
        },
        "outputId": "67f69e63-d99e-4166-e8ab-a533ee305c0d"
      },
      "outputs": [
        {
          "output_type": "stream",
          "name": "stdout",
          "text": [
            "Mounted at /content/drive\n"
          ]
        }
      ],
      "source": [
        "## Mount to google drive\n",
        "from google.colab import drive\n",
        "drive.mount('/content/drive')\n",
        "\n",
        "## Load in the csv datasets\n",
        "augt = pd.read_csv('/content/drive/MyDrive/AOSC650_Dataset/augt_sn_dataset.csv').values\n",
        "verm = pd.read_csv('/content/drive/MyDrive/AOSC650_Dataset/verm_sn_dataset.csv').values\n",
        "labr = pd.read_csv('/content/drive/MyDrive/AOSC650_Dataset/labr_sn_dataset.csv').values\n",
        "lizd = pd.read_csv('/content/drive/MyDrive/AOSC650_Dataset/lizd_sn_dataset.csv').values\n",
        "oliv = pd.read_csv('/content/drive/MyDrive/AOSC650_Dataset/oliv_sn_dataset.csv').values\n",
        "magn = pd.read_csv('/content/drive/MyDrive/AOSC650_Dataset/magn_sn_dataset.csv').values\n",
        "nont = pd.read_csv('/content/drive/MyDrive/AOSC650_Dataset/nont_sn_dataset.csv').values\n",
        "\n",
        "mass_list = pd.read_csv('/content/drive/MyDrive/AOSC650_Dataset/Mass_list.txt')\n"
      ]
    },
    {
      "cell_type": "code",
      "source": [
        "# Set random seed for reproducibility\n",
        "np.random.seed(789)"
      ],
      "metadata": {
        "id": "dKf3ynmvbcFz"
      },
      "execution_count": null,
      "outputs": []
    },
    {
      "cell_type": "markdown",
      "source": [
        "The dataset does not have labels on it yet, so intenger labels are added here for simplicity - these are later transformed to one-hot-encoded labels, as there is no clear relationship between these minerals"
      ],
      "metadata": {
        "id": "DrGF-zd66Pu1"
      }
    },
    {
      "cell_type": "code",
      "source": [
        "## Create labels, listed in the first row\n",
        "augt_l = np.full((1,augt.shape[1]), 1)\n",
        "augt_w_l = np.append(augt_l, augt, axis = 0) # labels in the first row\n",
        "verm_l = np.full((1,verm.shape[1]), 2)\n",
        "verm_w_l = np.append(verm_l, verm, axis = 0) # labels in the first row\n",
        "oliv_l = np.full((1,oliv.shape[1]), 3)\n",
        "oliv_w_l = np.append(oliv_l, oliv, axis = 0) # labels in the first row\n",
        "labr_l = np.full((1,labr.shape[1]), 4)\n",
        "labr_w_l = np.append(labr_l, labr, axis = 0) # labels in the first row\n",
        "lizd_l = np.full((1,lizd.shape[1]), 5)\n",
        "lizd_w_l = np.append(lizd_l, lizd, axis = 0) # labels in the first row\n",
        "nont_l = np.full((1,nont.shape[1]), 6)\n",
        "nont_w_l = np.append(nont_l, nont, axis = 0) # labels in the first row\n",
        "magn_l = np.full((1,magn.shape[1]), 7)\n",
        "magn_w_l = np.append(magn_l, magn, axis = 0) # labels in the first row\n",
        "\n",
        "print(augt.shape)\n",
        "print(verm.shape)\n",
        "print(oliv.shape)\n",
        "print(labr.shape)\n",
        "print(lizd.shape)\n",
        "print(nont.shape)\n",
        "print(magn.shape)\n",
        "\n",
        "\n",
        "## Combine into a single array\n",
        "data = np.append(augt_w_l, verm_w_l, axis = 1)\n",
        "data = np.append(data, oliv_w_l, axis = 1)\n",
        "data = np.append(data, labr_w_l, axis = 1)\n",
        "data = np.append(data, lizd_w_l, axis = 1)\n",
        "data = np.append(data, nont_w_l, axis = 1)\n",
        "data = np.append(data, magn_w_l, axis = 1)\n",
        "\n",
        "## Check to confirm dataset looks good and labels have been added to row 1\n",
        "print(data.shape)\n",
        "print(data)\n"
      ],
      "metadata": {
        "id": "FaZSzPpkbkjN",
        "colab": {
          "base_uri": "https://localhost:8080/"
        },
        "outputId": "4d52fff6-f135-48c3-d0e1-2acefed35272"
      },
      "execution_count": null,
      "outputs": [
        {
          "output_type": "stream",
          "name": "stdout",
          "text": [
            "(192, 33353)\n",
            "(192, 35931)\n",
            "(192, 33836)\n",
            "(192, 35882)\n",
            "(192, 33197)\n",
            "(192, 33831)\n",
            "(192, 32148)\n",
            "(193, 238178)\n",
            "[[  1.     1.     1.   ...   7.     7.     7.  ]\n",
            " [112.32  11.73 134.29 ...   0.     0.     0.  ]\n",
            " [  2.62   0.     4.25 ...   0.     0.     0.  ]\n",
            " ...\n",
            " [  0.     0.     0.   ...   0.     0.     0.  ]\n",
            " [  0.     0.     0.   ...   0.     0.     0.  ]\n",
            " [  0.     0.     0.   ...   0.     0.     0.  ]]\n"
          ]
        }
      ]
    },
    {
      "cell_type": "markdown",
      "source": [
        "Data then needs to be transposed so that is can be split properly by scikit learn. The dataset will be log transformed later, and to accomodate this, all zeros are transformed to 1s"
      ],
      "metadata": {
        "id": "CBAAaYijYTi1"
      }
    },
    {
      "cell_type": "code",
      "source": [
        "## Transpose dataset\n",
        "data_t = np.transpose(data)\n",
        "\n",
        "## Change S/N = 0 to S/N = 1, more appropriate representaation of no signal, and needed for log transform\n",
        "data_t[data_t == 0] = 1\n",
        "print(data_t)"
      ],
      "metadata": {
        "id": "4o808HlzfyKX",
        "colab": {
          "base_uri": "https://localhost:8080/"
        },
        "outputId": "c97755ab-e489-4090-e998-88c386863c25"
      },
      "execution_count": null,
      "outputs": [
        {
          "output_type": "stream",
          "name": "stdout",
          "text": [
            "[[  1.   112.32   2.62 ...   1.     1.     1.  ]\n",
            " [  1.    11.73   1.   ...   1.     1.     1.  ]\n",
            " [  1.   134.29   4.25 ...   1.     1.     1.  ]\n",
            " ...\n",
            " [  7.     1.     1.   ...   1.     1.     1.  ]\n",
            " [  7.     1.     1.   ...   1.     1.     1.  ]\n",
            " [  7.     1.     1.   ...   1.     1.     1.  ]]\n"
          ]
        }
      ]
    },
    {
      "cell_type": "markdown",
      "source": [
        "When attempting to break the neural network, uncomment the line below to completely shuffle the dataset. When this line in uncommented, the neural network will only reach an accuracy ~ 14%, equivalent to randomly guessing"
      ],
      "metadata": {
        "id": "3IlZplsGYunX"
      }
    },
    {
      "cell_type": "code",
      "source": [
        "#np.random.shuffle(data_t[:,1:-1])"
      ],
      "metadata": {
        "id": "hyQq4ZcWUaI6"
      },
      "execution_count": null,
      "outputs": []
    },
    {
      "cell_type": "code",
      "source": [
        "data_max = np.max(data_t, axis=0)\n",
        "sort_max = np.sort(data_max)\n",
        "max_10_ind = np.where(np.isin(data_max, sort_max[:-60]) == 1)\n",
        "print(max_10_ind)\n",
        "max_10_ind = np.array(list(max_10_ind))\n",
        "print(max_10_ind.shape)\n",
        "data_t_c = data_t[:,0:50]\n",
        "for i in range(10):\n",
        "  data_t_c[:,(i+1)] = data_t[:,max_10_ind[:,i]].reshape(len(data_t),)\n",
        "print(data_t_c.shape)"
      ],
      "metadata": {
        "id": "suznfZy3OAKI",
        "colab": {
          "base_uri": "https://localhost:8080/"
        },
        "outputId": "0087403c-022f-4cd0-d20e-4c26a1390c93"
      },
      "execution_count": null,
      "outputs": [
        {
          "output_type": "stream",
          "name": "stdout",
          "text": [
            "(array([  0,   4,  13,  14,  15,  16,  17,  18,  19,  20,  21,  22,  23,\n",
            "        24,  25,  26,  27,  30,  31,  34,  37,  39,  40,  41,  43,  46,\n",
            "        48,  49,  54,  55,  56,  59,  60,  61,  62,  64,  66,  67,  68,\n",
            "        71,  72,  73,  75,  76,  77,  78,  81,  82,  83,  84,  86,  87,\n",
            "        88,  89,  90,  91,  92,  93,  94,  96,  97,  98, 100, 101, 102,\n",
            "       103, 106, 108, 111, 113, 115, 116, 119, 120, 121, 123, 124, 125,\n",
            "       126, 127, 128, 130, 132, 133, 134, 137, 138, 139, 140, 142, 143,\n",
            "       144, 145, 148, 150, 151, 153, 154, 156, 157, 158, 159, 160, 161,\n",
            "       162, 164, 165, 166, 167, 168, 169, 170, 171, 172, 173, 175, 176,\n",
            "       177, 178, 179, 180, 181, 182, 183, 184, 185, 186, 187, 188, 189,\n",
            "       190, 191, 192]),)\n",
            "(1, 133)\n",
            "(238178, 50)\n"
          ]
        }
      ]
    },
    {
      "cell_type": "code",
      "source": [
        "## Split into test and training sets\n",
        "## 60% to train, 40% to test\n",
        "\n",
        "train_set, test_set = train_test_split(data_t_c, test_size = 0.4)\n",
        "\n",
        "print(train_set.shape)\n",
        "print(test_set.shape)"
      ],
      "metadata": {
        "id": "CAUo2X34bvfF",
        "colab": {
          "base_uri": "https://localhost:8080/"
        },
        "outputId": "d22f73c6-ca15-4f6f-b31a-3955f15102f2"
      },
      "execution_count": null,
      "outputs": [
        {
          "output_type": "stream",
          "name": "stdout",
          "text": [
            "(142906, 50)\n",
            "(95272, 50)\n"
          ]
        }
      ]
    },
    {
      "cell_type": "markdown",
      "source": [
        "It is likely there are some correlated variables in the dataset. To improve the accuracy of the NN, any highly correlated variables need to be removed. The following lines calculate a correlation coefficient, then features with high correlation (> 0.9) removed. It is setup so that only 1 of the two correlated variables is removed."
      ],
      "metadata": {
        "id": "9N3WHgpGZCDe"
      }
    },
    {
      "cell_type": "code",
      "source": [
        "\n"
      ],
      "metadata": {
        "id": "zxY8DlL8HRu7"
      },
      "execution_count": null,
      "outputs": []
    },
    {
      "cell_type": "code",
      "source": [
        "\n",
        "corr_matrix = np.zeros((train_set.shape[1],train_set.shape[1])) # setup empty ocrrelation matrix\n",
        "for i in range(train_set.shape[1]):\n",
        "  for j in range(train_set.shape[1]):\n",
        "    corr_matrix[j,i] = np.corrcoef(train_set[i,1:], train_set[j,1:])[1,0] # calculate correlation\n",
        "high_corr = np.argwhere(np.logical_and(0.9 < np.abs(corr_matrix), np.abs(corr_matrix) < 1)) # identify high correlations\n",
        "high_corr_ind = np.unique(high_corr)[1:]\n"
      ],
      "metadata": {
        "id": "FE3aHUptGnRe"
      },
      "execution_count": null,
      "outputs": []
    },
    {
      "cell_type": "code",
      "source": [
        "## Delete high correlated features\n",
        "\n",
        "train_set = np.delete(train_set, high_corr_ind, axis = 1)\n",
        "test_set = np.delete(test_set, high_corr_ind, axis = 1)\n",
        "\n",
        "print(train_set.shape)\n",
        "\n"
      ],
      "metadata": {
        "id": "dqFxgO5tPLjO",
        "colab": {
          "base_uri": "https://localhost:8080/"
        },
        "outputId": "874712b7-10fe-4a7e-8707-c2c6acaf1864"
      },
      "execution_count": null,
      "outputs": [
        {
          "output_type": "stream",
          "name": "stdout",
          "text": [
            "(142906, 26)\n"
          ]
        }
      ]
    },
    {
      "cell_type": "markdown",
      "source": [
        "Complete final preprocessing steps. Log transform both test and training set, then normalize each feature to maximum is the testing set"
      ],
      "metadata": {
        "id": "Fms8igpicWDH"
      }
    },
    {
      "cell_type": "code",
      "source": [
        "## Log transform and Normalize the dataset (but not the numeric labels)\n",
        "test_set[:,1:-1] = np.log(test_set[:,1:-1])\n",
        "train_set[:,1:-1] = np.log(train_set[:,1:-1])\n",
        "\n",
        "## Normalize to the max, creates range of 0-1\n",
        "test_set[:,1:-1] = test_set[:,1:-1] / np.max(train_set[:,1:-1], axis=0)\n",
        "train_set[:,1:-1] = train_set[:,1:-1] / np.max(train_set[:,1:-1], axis=0) # normalize train set second, to use the same max for test and train\n",
        "\n",
        "\n"
      ],
      "metadata": {
        "id": "VkD_mmv39Kaf"
      },
      "execution_count": null,
      "outputs": []
    },
    {
      "cell_type": "code",
      "source": [
        "## Split labels from actual input\n",
        "input_train = train_set[:,1:] # labels in first column\n",
        "label_train = train_set[:,0]\n",
        "\n",
        "input_test = test_set[:,1:] # labels in first column\n",
        "label_test = test_set[:,0]\n",
        "print(label_train)"
      ],
      "metadata": {
        "id": "iFkqQgyUbxuY",
        "colab": {
          "base_uri": "https://localhost:8080/"
        },
        "outputId": "0fb1d0ce-725d-4bf0-9a0c-8ef86c70117b"
      },
      "execution_count": null,
      "outputs": [
        {
          "output_type": "stream",
          "name": "stdout",
          "text": [
            "[2. 5. 3. ... 3. 3. 4.]\n"
          ]
        }
      ]
    },
    {
      "cell_type": "markdown",
      "source": [
        "Complete one-hot-encoding of labels for the the training and testing sets. (Only integer encoded before)"
      ],
      "metadata": {
        "id": "2InbnDiGc1VA"
      }
    },
    {
      "cell_type": "code",
      "source": [
        "encoded_label_train = np.zeros((len(label_train), 7))\n",
        "for i in range (len(label_train)):\n",
        "    encoded_label_train[i,int(label_train[i])-1] = 1\n",
        "\n",
        "print(encoded_label_train)\n",
        "\n",
        "\n",
        "encoded_label_test = np.zeros((len(label_test), 7))\n",
        "for i in range (len(label_test)):\n",
        "    encoded_label_test[i,int(label_test[i])-1] = 1\n",
        "\n",
        "print(encoded_label_test)"
      ],
      "metadata": {
        "id": "zsdT0tBtAaFD",
        "colab": {
          "base_uri": "https://localhost:8080/"
        },
        "outputId": "060a35a5-b2f1-467a-c6b2-5f256b3e76ca"
      },
      "execution_count": null,
      "outputs": [
        {
          "output_type": "stream",
          "name": "stdout",
          "text": [
            "[[0. 1. 0. ... 0. 0. 0.]\n",
            " [0. 0. 0. ... 1. 0. 0.]\n",
            " [0. 0. 1. ... 0. 0. 0.]\n",
            " ...\n",
            " [0. 0. 1. ... 0. 0. 0.]\n",
            " [0. 0. 1. ... 0. 0. 0.]\n",
            " [0. 0. 0. ... 0. 0. 0.]]\n",
            "[[0. 1. 0. ... 0. 0. 0.]\n",
            " [0. 0. 0. ... 0. 0. 0.]\n",
            " [0. 1. 0. ... 0. 0. 0.]\n",
            " ...\n",
            " [0. 0. 0. ... 0. 0. 1.]\n",
            " [0. 1. 0. ... 0. 0. 0.]\n",
            " [0. 0. 0. ... 0. 0. 1.]]\n"
          ]
        }
      ]
    },
    {
      "cell_type": "markdown",
      "source": [
        "Build the neural network using keras!"
      ],
      "metadata": {
        "id": "7svqFYI-dKt4"
      }
    },
    {
      "cell_type": "code",
      "source": [
        "## Begin building the model\n",
        "\n",
        "model = keras.Sequential()\n",
        "model.add(keras.Input(shape=(input_train.shape[1],)))\n",
        "\n",
        "#model.add(keras.layers.Dense(int(input_train.shape[1]), activation='relu'))\n",
        "#model.add(keras.layers.Dense(int(99), activation='relu'))\n",
        "#model.add(keras.layers.Dropout(0.2))\n",
        "\n",
        "#model.add(keras.layers.Dense(int(49), activation='relu'))\n",
        "#model.add(keras.layers.Dropout(0.2))\n",
        "model.add(keras.layers.Dense(int(26+7), activation='relu'))\n",
        "#model.add(keras.layers.Dropout(0.2))\n",
        "model.add(keras.layers.Dense(int(17), activation='relu'))\n",
        "#model.add(keras.layers.Dense(int(7), activation='relu'))\n",
        "\n",
        "model.add(keras.layers.Dense(7, activation='softmax'))\n",
        "\n",
        "model.compile(\n",
        "    optimizer=keras.optimizers.Adam(learning_rate=0.0003),\n",
        "    loss=keras.losses.CategoricalCrossentropy(),\n",
        "    metrics=[\n",
        "        keras.metrics.CategoricalAccuracy()\n",
        "    ],\n",
        ")\n",
        "\n",
        "model.summary()"
      ],
      "metadata": {
        "id": "Lad42WFYglm_",
        "colab": {
          "base_uri": "https://localhost:8080/"
        },
        "outputId": "548211f8-a117-4ac4-9e94-f02e9e72117d"
      },
      "execution_count": null,
      "outputs": [
        {
          "output_type": "stream",
          "name": "stdout",
          "text": [
            "Model: \"sequential_1\"\n",
            "_________________________________________________________________\n",
            " Layer (type)                Output Shape              Param #   \n",
            "=================================================================\n",
            " dense_3 (Dense)             (None, 33)                858       \n",
            "                                                                 \n",
            " dense_4 (Dense)             (None, 17)                578       \n",
            "                                                                 \n",
            " dense_5 (Dense)             (None, 7)                 126       \n",
            "                                                                 \n",
            "=================================================================\n",
            "Total params: 1562 (6.10 KB)\n",
            "Trainable params: 1562 (6.10 KB)\n",
            "Non-trainable params: 0 (0.00 Byte)\n",
            "_________________________________________________________________\n"
          ]
        }
      ]
    },
    {
      "cell_type": "code",
      "source": [
        "## Define hyperparameters\n",
        "num_epochs = 12\n",
        "num_batch = 16"
      ],
      "metadata": {
        "id": "vjv8-RP1885o"
      },
      "execution_count": null,
      "outputs": []
    },
    {
      "cell_type": "code",
      "source": [
        "history = model.fit(x=input_train,\n",
        "                    y=encoded_label_train,\n",
        "                    validation_split = 0.2,\n",
        "                    batch_size = num_batch,\n",
        "                    epochs = num_epochs\n",
        "                    )"
      ],
      "metadata": {
        "id": "f2mNqw1UegEf",
        "colab": {
          "base_uri": "https://localhost:8080/"
        },
        "outputId": "4fb48511-b5ef-42c3-8a03-c3a1b12f71c2"
      },
      "execution_count": null,
      "outputs": [
        {
          "output_type": "stream",
          "name": "stdout",
          "text": [
            "Epoch 1/12\n",
            "7146/7146 [==============================] - 19s 3ms/step - loss: 0.2266 - categorical_accuracy: 0.9490 - val_loss: 0.0544 - val_categorical_accuracy: 0.9845\n",
            "Epoch 2/12\n",
            "7146/7146 [==============================] - 20s 3ms/step - loss: 0.0405 - categorical_accuracy: 0.9886 - val_loss: 0.0291 - val_categorical_accuracy: 0.9918\n",
            "Epoch 3/12\n",
            "7146/7146 [==============================] - 16s 2ms/step - loss: 0.0247 - categorical_accuracy: 0.9937 - val_loss: 0.0186 - val_categorical_accuracy: 0.9951\n",
            "Epoch 4/12\n",
            "7146/7146 [==============================] - 17s 2ms/step - loss: 0.0162 - categorical_accuracy: 0.9962 - val_loss: 0.0133 - val_categorical_accuracy: 0.9971\n",
            "Epoch 5/12\n",
            "7146/7146 [==============================] - 17s 2ms/step - loss: 0.0129 - categorical_accuracy: 0.9973 - val_loss: 0.0097 - val_categorical_accuracy: 0.9979\n",
            "Epoch 6/12\n",
            "7146/7146 [==============================] - 20s 3ms/step - loss: 0.0095 - categorical_accuracy: 0.9981 - val_loss: 0.0095 - val_categorical_accuracy: 0.9982\n",
            "Epoch 7/12\n",
            "7146/7146 [==============================] - 17s 2ms/step - loss: 0.0079 - categorical_accuracy: 0.9985 - val_loss: 0.0056 - val_categorical_accuracy: 0.9987\n",
            "Epoch 8/12\n",
            "7146/7146 [==============================] - 17s 2ms/step - loss: 0.0070 - categorical_accuracy: 0.9987 - val_loss: 0.0082 - val_categorical_accuracy: 0.9986\n",
            "Epoch 9/12\n",
            "7146/7146 [==============================] - 18s 3ms/step - loss: 0.0062 - categorical_accuracy: 0.9988 - val_loss: 0.0041 - val_categorical_accuracy: 0.9990\n",
            "Epoch 10/12\n",
            "7146/7146 [==============================] - 17s 2ms/step - loss: 0.0044 - categorical_accuracy: 0.9991 - val_loss: 0.0045 - val_categorical_accuracy: 0.9991\n",
            "Epoch 11/12\n",
            "7146/7146 [==============================] - 20s 3ms/step - loss: 0.0035 - categorical_accuracy: 0.9992 - val_loss: 0.0036 - val_categorical_accuracy: 0.9991\n",
            "Epoch 12/12\n",
            "7146/7146 [==============================] - 16s 2ms/step - loss: 0.0037 - categorical_accuracy: 0.9994 - val_loss: 0.0025 - val_categorical_accuracy: 0.9995\n"
          ]
        }
      ]
    },
    {
      "cell_type": "code",
      "source": [
        "plt.plot(range(0,num_epochs), history.history['loss'], c='k')\n",
        "plt.plot(range(0,num_epochs), history.history['val_loss'], c='r')\n",
        "plt.xlabel('Epoch #', fontname = 'Arial', fontsize = 12)\n",
        "plt.ylabel('Loss (categorical cross entropy)', fontname = 'Arial', fontsize = 12)\n",
        "plt.xticks(fontname = 'Arial', fontsize = 11)\n",
        "plt.yticks(fontname = 'Arial', fontsize = 11)\n",
        "plt.legend(['Training Loss','Validation Loss'],prop={'family':'Arial'}, fontsize = 8, edgecolor = 'black', borderpad = 0.3)\n",
        "plt.show()"
      ],
      "metadata": {
        "id": "9snAswLuzf79",
        "colab": {
          "base_uri": "https://localhost:8080/",
          "height": 1000
        },
        "outputId": "73f15cc2-e6cc-448e-af5f-d7dc86d1d7a0"
      },
      "execution_count": null,
      "outputs": [
        {
          "output_type": "stream",
          "name": "stderr",
          "text": [
            "WARNING:matplotlib.font_manager:findfont: Font family 'Arial' not found.\n",
            "WARNING:matplotlib.font_manager:findfont: Font family 'Arial' not found.\n",
            "WARNING:matplotlib.font_manager:findfont: Font family 'Arial' not found.\n",
            "WARNING:matplotlib.font_manager:findfont: Font family 'Arial' not found.\n",
            "WARNING:matplotlib.font_manager:findfont: Font family 'Arial' not found.\n",
            "WARNING:matplotlib.font_manager:findfont: Font family 'Arial' not found.\n",
            "WARNING:matplotlib.font_manager:findfont: Font family 'Arial' not found.\n",
            "WARNING:matplotlib.font_manager:findfont: Font family 'Arial' not found.\n",
            "WARNING:matplotlib.font_manager:findfont: Font family 'Arial' not found.\n",
            "WARNING:matplotlib.font_manager:findfont: Font family 'Arial' not found.\n",
            "WARNING:matplotlib.font_manager:findfont: Font family 'Arial' not found.\n",
            "WARNING:matplotlib.font_manager:findfont: Font family 'Arial' not found.\n",
            "WARNING:matplotlib.font_manager:findfont: Font family 'Arial' not found.\n",
            "WARNING:matplotlib.font_manager:findfont: Font family 'Arial' not found.\n",
            "WARNING:matplotlib.font_manager:findfont: Font family 'Arial' not found.\n",
            "WARNING:matplotlib.font_manager:findfont: Font family 'Arial' not found.\n",
            "WARNING:matplotlib.font_manager:findfont: Font family 'Arial' not found.\n",
            "WARNING:matplotlib.font_manager:findfont: Font family 'Arial' not found.\n",
            "WARNING:matplotlib.font_manager:findfont: Font family 'Arial' not found.\n",
            "WARNING:matplotlib.font_manager:findfont: Font family 'Arial' not found.\n",
            "WARNING:matplotlib.font_manager:findfont: Font family 'Arial' not found.\n",
            "WARNING:matplotlib.font_manager:findfont: Font family 'Arial' not found.\n",
            "WARNING:matplotlib.font_manager:findfont: Font family 'Arial' not found.\n",
            "WARNING:matplotlib.font_manager:findfont: Font family 'Arial' not found.\n",
            "WARNING:matplotlib.font_manager:findfont: Font family 'Arial' not found.\n",
            "WARNING:matplotlib.font_manager:findfont: Font family 'Arial' not found.\n",
            "WARNING:matplotlib.font_manager:findfont: Font family 'Arial' not found.\n",
            "WARNING:matplotlib.font_manager:findfont: Font family 'Arial' not found.\n",
            "WARNING:matplotlib.font_manager:findfont: Font family 'Arial' not found.\n",
            "WARNING:matplotlib.font_manager:findfont: Font family 'Arial' not found.\n",
            "WARNING:matplotlib.font_manager:findfont: Font family 'Arial' not found.\n",
            "WARNING:matplotlib.font_manager:findfont: Font family 'Arial' not found.\n",
            "WARNING:matplotlib.font_manager:findfont: Font family 'Arial' not found.\n",
            "WARNING:matplotlib.font_manager:findfont: Font family 'Arial' not found.\n",
            "WARNING:matplotlib.font_manager:findfont: Font family 'Arial' not found.\n",
            "WARNING:matplotlib.font_manager:findfont: Font family 'Arial' not found.\n",
            "WARNING:matplotlib.font_manager:findfont: Font family 'Arial' not found.\n",
            "WARNING:matplotlib.font_manager:findfont: Font family 'Arial' not found.\n",
            "WARNING:matplotlib.font_manager:findfont: Font family 'Arial' not found.\n",
            "WARNING:matplotlib.font_manager:findfont: Font family 'Arial' not found.\n",
            "WARNING:matplotlib.font_manager:findfont: Font family 'Arial' not found.\n",
            "WARNING:matplotlib.font_manager:findfont: Font family 'Arial' not found.\n",
            "WARNING:matplotlib.font_manager:findfont: Font family 'Arial' not found.\n",
            "WARNING:matplotlib.font_manager:findfont: Font family 'Arial' not found.\n",
            "WARNING:matplotlib.font_manager:findfont: Font family 'Arial' not found.\n",
            "WARNING:matplotlib.font_manager:findfont: Font family 'Arial' not found.\n",
            "WARNING:matplotlib.font_manager:findfont: Font family 'Arial' not found.\n",
            "WARNING:matplotlib.font_manager:findfont: Font family 'Arial' not found.\n",
            "WARNING:matplotlib.font_manager:findfont: Font family 'Arial' not found.\n",
            "WARNING:matplotlib.font_manager:findfont: Font family 'Arial' not found.\n",
            "WARNING:matplotlib.font_manager:findfont: Font family 'Arial' not found.\n",
            "WARNING:matplotlib.font_manager:findfont: Font family 'Arial' not found.\n",
            "WARNING:matplotlib.font_manager:findfont: Font family 'Arial' not found.\n",
            "WARNING:matplotlib.font_manager:findfont: Font family 'Arial' not found.\n",
            "WARNING:matplotlib.font_manager:findfont: Font family 'Arial' not found.\n",
            "WARNING:matplotlib.font_manager:findfont: Font family 'Arial' not found.\n",
            "WARNING:matplotlib.font_manager:findfont: Font family 'Arial' not found.\n",
            "WARNING:matplotlib.font_manager:findfont: Font family 'Arial' not found.\n",
            "WARNING:matplotlib.font_manager:findfont: Font family 'Arial' not found.\n",
            "WARNING:matplotlib.font_manager:findfont: Font family 'Arial' not found.\n",
            "WARNING:matplotlib.font_manager:findfont: Font family 'Arial' not found.\n",
            "WARNING:matplotlib.font_manager:findfont: Font family 'Arial' not found.\n",
            "WARNING:matplotlib.font_manager:findfont: Font family 'Arial' not found.\n",
            "WARNING:matplotlib.font_manager:findfont: Font family 'Arial' not found.\n",
            "WARNING:matplotlib.font_manager:findfont: Font family 'Arial' not found.\n",
            "WARNING:matplotlib.font_manager:findfont: Font family 'Arial' not found.\n",
            "WARNING:matplotlib.font_manager:findfont: Font family 'Arial' not found.\n",
            "WARNING:matplotlib.font_manager:findfont: Font family 'Arial' not found.\n",
            "WARNING:matplotlib.font_manager:findfont: Font family 'Arial' not found.\n",
            "WARNING:matplotlib.font_manager:findfont: Font family 'Arial' not found.\n",
            "WARNING:matplotlib.font_manager:findfont: Font family 'Arial' not found.\n",
            "WARNING:matplotlib.font_manager:findfont: Font family 'Arial' not found.\n",
            "WARNING:matplotlib.font_manager:findfont: Font family 'Arial' not found.\n",
            "WARNING:matplotlib.font_manager:findfont: Font family 'Arial' not found.\n",
            "WARNING:matplotlib.font_manager:findfont: Font family 'Arial' not found.\n",
            "WARNING:matplotlib.font_manager:findfont: Font family 'Arial' not found.\n",
            "WARNING:matplotlib.font_manager:findfont: Font family 'Arial' not found.\n"
          ]
        },
        {
          "output_type": "display_data",
          "data": {
            "text/plain": [
              "<Figure size 640x480 with 1 Axes>"
            ],
            "image/png": "[encoded data removed]"
          },
          "metadata": {}
        }
      ]
    },
    {
      "cell_type": "code",
      "source": [
        "plt.plot(range(0,num_epochs), history.history['categorical_accuracy'], c='k')\n",
        "plt.plot(range(0,num_epochs), history.history['val_categorical_accuracy'], c='r')\n",
        "plt.xlabel('Epoch #', fontname = 'Arial', fontsize = 12)\n",
        "plt.ylabel('Accuracy (Categorical)', fontname = 'Arial', fontsize = 12)\n",
        "plt.xticks(fontname = 'Arial', fontsize = 11)\n",
        "plt.yticks(fontname = 'Arial', fontsize = 11)\n",
        "plt.legend(['Training Accuracy','Validation Accuracy'],prop={'family':'Arial'}, fontsize = 8, edgecolor = 'black', borderpad = 0.3)\n",
        "plt.show()"
      ],
      "metadata": {
        "colab": {
          "base_uri": "https://localhost:8080/",
          "height": 1000
        },
        "id": "m2sLXvHXDGg-",
        "outputId": "e90b5cc2-25bf-4507-bca8-b4185e8eab2c"
      },
      "execution_count": null,
      "outputs": [
        {
          "output_type": "stream",
          "name": "stderr",
          "text": [
            "WARNING:matplotlib.font_manager:findfont: Font family 'Arial' not found.\n",
            "WARNING:matplotlib.font_manager:findfont: Font family 'Arial' not found.\n",
            "WARNING:matplotlib.font_manager:findfont: Font family 'Arial' not found.\n",
            "WARNING:matplotlib.font_manager:findfont: Font family 'Arial' not found.\n",
            "WARNING:matplotlib.font_manager:findfont: Font family 'Arial' not found.\n",
            "WARNING:matplotlib.font_manager:findfont: Font family 'Arial' not found.\n",
            "WARNING:matplotlib.font_manager:findfont: Font family 'Arial' not found.\n",
            "WARNING:matplotlib.font_manager:findfont: Font family 'Arial' not found.\n",
            "WARNING:matplotlib.font_manager:findfont: Font family 'Arial' not found.\n",
            "WARNING:matplotlib.font_manager:findfont: Font family 'Arial' not found.\n",
            "WARNING:matplotlib.font_manager:findfont: Font family 'Arial' not found.\n",
            "WARNING:matplotlib.font_manager:findfont: Font family 'Arial' not found.\n",
            "WARNING:matplotlib.font_manager:findfont: Font family 'Arial' not found.\n",
            "WARNING:matplotlib.font_manager:findfont: Font family 'Arial' not found.\n",
            "WARNING:matplotlib.font_manager:findfont: Font family 'Arial' not found.\n",
            "WARNING:matplotlib.font_manager:findfont: Font family 'Arial' not found.\n",
            "WARNING:matplotlib.font_manager:findfont: Font family 'Arial' not found.\n",
            "WARNING:matplotlib.font_manager:findfont: Font family 'Arial' not found.\n",
            "WARNING:matplotlib.font_manager:findfont: Font family 'Arial' not found.\n",
            "WARNING:matplotlib.font_manager:findfont: Font family 'Arial' not found.\n",
            "WARNING:matplotlib.font_manager:findfont: Font family 'Arial' not found.\n",
            "WARNING:matplotlib.font_manager:findfont: Font family 'Arial' not found.\n",
            "WARNING:matplotlib.font_manager:findfont: Font family 'Arial' not found.\n",
            "WARNING:matplotlib.font_manager:findfont: Font family 'Arial' not found.\n",
            "WARNING:matplotlib.font_manager:findfont: Font family 'Arial' not found.\n",
            "WARNING:matplotlib.font_manager:findfont: Font family 'Arial' not found.\n",
            "WARNING:matplotlib.font_manager:findfont: Font family 'Arial' not found.\n",
            "WARNING:matplotlib.font_manager:findfont: Font family 'Arial' not found.\n",
            "WARNING:matplotlib.font_manager:findfont: Font family 'Arial' not found.\n",
            "WARNING:matplotlib.font_manager:findfont: Font family 'Arial' not found.\n",
            "WARNING:matplotlib.font_manager:findfont: Font family 'Arial' not found.\n",
            "WARNING:matplotlib.font_manager:findfont: Font family 'Arial' not found.\n",
            "WARNING:matplotlib.font_manager:findfont: Font family 'Arial' not found.\n",
            "WARNING:matplotlib.font_manager:findfont: Font family 'Arial' not found.\n",
            "WARNING:matplotlib.font_manager:findfont: Font family 'Arial' not found.\n",
            "WARNING:matplotlib.font_manager:findfont: Font family 'Arial' not found.\n",
            "WARNING:matplotlib.font_manager:findfont: Font family 'Arial' not found.\n",
            "WARNING:matplotlib.font_manager:findfont: Font family 'Arial' not found.\n",
            "WARNING:matplotlib.font_manager:findfont: Font family 'Arial' not found.\n",
            "WARNING:matplotlib.font_manager:findfont: Font family 'Arial' not found.\n",
            "WARNING:matplotlib.font_manager:findfont: Font family 'Arial' not found.\n",
            "WARNING:matplotlib.font_manager:findfont: Font family 'Arial' not found.\n",
            "WARNING:matplotlib.font_manager:findfont: Font family 'Arial' not found.\n",
            "WARNING:matplotlib.font_manager:findfont: Font family 'Arial' not found.\n",
            "WARNING:matplotlib.font_manager:findfont: Font family 'Arial' not found.\n",
            "WARNING:matplotlib.font_manager:findfont: Font family 'Arial' not found.\n",
            "WARNING:matplotlib.font_manager:findfont: Font family 'Arial' not found.\n",
            "WARNING:matplotlib.font_manager:findfont: Font family 'Arial' not found.\n",
            "WARNING:matplotlib.font_manager:findfont: Font family 'Arial' not found.\n",
            "WARNING:matplotlib.font_manager:findfont: Font family 'Arial' not found.\n",
            "WARNING:matplotlib.font_manager:findfont: Font family 'Arial' not found.\n",
            "WARNING:matplotlib.font_manager:findfont: Font family 'Arial' not found.\n",
            "WARNING:matplotlib.font_manager:findfont: Font family 'Arial' not found.\n",
            "WARNING:matplotlib.font_manager:findfont: Font family 'Arial' not found.\n",
            "WARNING:matplotlib.font_manager:findfont: Font family 'Arial' not found.\n",
            "WARNING:matplotlib.font_manager:findfont: Font family 'Arial' not found.\n",
            "WARNING:matplotlib.font_manager:findfont: Font family 'Arial' not found.\n",
            "WARNING:matplotlib.font_manager:findfont: Font family 'Arial' not found.\n",
            "WARNING:matplotlib.font_manager:findfont: Font family 'Arial' not found.\n",
            "WARNING:matplotlib.font_manager:findfont: Font family 'Arial' not found.\n",
            "WARNING:matplotlib.font_manager:findfont: Font family 'Arial' not found.\n",
            "WARNING:matplotlib.font_manager:findfont: Font family 'Arial' not found.\n",
            "WARNING:matplotlib.font_manager:findfont: Font family 'Arial' not found.\n",
            "WARNING:matplotlib.font_manager:findfont: Font family 'Arial' not found.\n",
            "WARNING:matplotlib.font_manager:findfont: Font family 'Arial' not found.\n",
            "WARNING:matplotlib.font_manager:findfont: Font family 'Arial' not found.\n",
            "WARNING:matplotlib.font_manager:findfont: Font family 'Arial' not found.\n",
            "WARNING:matplotlib.font_manager:findfont: Font family 'Arial' not found.\n",
            "WARNING:matplotlib.font_manager:findfont: Font family 'Arial' not found.\n",
            "WARNING:matplotlib.font_manager:findfont: Font family 'Arial' not found.\n",
            "WARNING:matplotlib.font_manager:findfont: Font family 'Arial' not found.\n",
            "WARNING:matplotlib.font_manager:findfont: Font family 'Arial' not found.\n",
            "WARNING:matplotlib.font_manager:findfont: Font family 'Arial' not found.\n",
            "WARNING:matplotlib.font_manager:findfont: Font family 'Arial' not found.\n",
            "WARNING:matplotlib.font_manager:findfont: Font family 'Arial' not found.\n",
            "WARNING:matplotlib.font_manager:findfont: Font family 'Arial' not found.\n",
            "WARNING:matplotlib.font_manager:findfont: Font family 'Arial' not found.\n",
            "WARNING:matplotlib.font_manager:findfont: Font family 'Arial' not found.\n",
            "WARNING:matplotlib.font_manager:findfont: Font family 'Arial' not found.\n",
            "WARNING:matplotlib.font_manager:findfont: Font family 'Arial' not found.\n"
          ]
        },
        {
          "output_type": "display_data",
          "data": {
            "text/plain": [
              "<Figure size 640x480 with 1 Axes>"
            ],
            "image/png": "[encoded data removed]"
          },
          "metadata": {}
        }
      ]
    },
    {
      "cell_type": "code",
      "source": [
        "label_pred = np.zeros(input_test.shape[0])\n",
        "label_test_pred = np.zeros(input_test.shape[0])\n",
        "def decode(values):\n",
        "  max = 0\n",
        "  answer = values[0]\n",
        "  for i in range(len(values)):\n",
        "    if values[i] > max:\n",
        "      max = values[i]\n",
        "      answer = i+1\n",
        "  return answer\n",
        "predictions = model.predict(input_test)\n",
        "correct = 0\n",
        "for i in range(len(predictions)):\n",
        "  label_pred[i] = decode(predictions[i])\n",
        "  label_test[i] = decode(encoded_label_test[i])\n",
        "  if (decode(predictions[i]) == decode(encoded_label_test[i])):\n",
        "    correct += 1\n",
        "  #print(\"prediction: \" + str(decode(predictions[i])) + \", \" + \"actual: \" + str(decode(encoded_label_test[i])))\n",
        "\n",
        "print(\"accuracy = \" + str(correct/len(predictions)))"
      ],
      "metadata": {
        "id": "F8fwKjaP4Q3T",
        "colab": {
          "base_uri": "https://localhost:8080/"
        },
        "outputId": "8038624c-3130-4eff-9413-acb968a91a1d"
      },
      "execution_count": null,
      "outputs": [
        {
          "output_type": "stream",
          "name": "stdout",
          "text": [
            "2978/2978 [==============================] - 4s 1ms/step\n",
            "accuracy = 0.9992022839869007\n"
          ]
        }
      ]
    },
    {
      "cell_type": "code",
      "source": [
        "con_matrix = sklearn.metrics.confusion_matrix(label_test, label_pred)\n",
        "cm_display = sklearn.metrics.ConfusionMatrixDisplay(confusion_matrix = con_matrix, display_labels = ['augite','vermiculite','olivine','labradorite','lizardite','nontronite','magnesite'])\n",
        "cm_display.plot(xticks_rotation = 'vertical', cmap = 'cividis')\n",
        "plt.show()"
      ],
      "metadata": {
        "id": "EYPk9QXIXwM3",
        "colab": {
          "base_uri": "https://localhost:8080/",
          "height": 513
        },
        "outputId": "680dba5c-de5f-438b-a94d-2d38e9211ba1"
      },
      "execution_count": null,
      "outputs": [
        {
          "output_type": "display_data",
          "data": {
            "text/plain": [
              "<Figure size 640x480 with 2 Axes>"
            ],
            "image/png": "[encoded data removed]"
          },
          "metadata": {}
        }
      ]
    }
  ]
}